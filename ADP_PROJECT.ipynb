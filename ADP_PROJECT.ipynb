{
  "nbformat": 4,
  "nbformat_minor": 0,
  "metadata": {
    "colab": {
      "provenance": [],
      "authorship_tag": "ABX9TyO7myjHr4UX/2pf3Ufn7Fjx",
      "include_colab_link": true
    },
    "kernelspec": {
      "name": "python3",
      "display_name": "Python 3"
    },
    "language_info": {
      "name": "python"
    }
  },
  "cells": [
    {
      "cell_type": "markdown",
      "metadata": {
        "id": "view-in-github",
        "colab_type": "text"
      },
      "source": [
        "<a href=\"https://colab.research.google.com/github/abhisheksd27/abhishek/blob/master/ADP_PROJECT.ipynb\" target=\"_parent\"><img src=\"https://colab.research.google.com/assets/colab-badge.svg\" alt=\"Open In Colab\"/></a>"
      ]
    },
    {
      "cell_type": "code",
      "execution_count": 1,
      "metadata": {
        "colab": {
          "base_uri": "https://localhost:8080/"
        },
        "id": "mGUvGwwDlfV_",
        "outputId": "f37a09a4-bb94-4c62-b815-162d24ebe012"
      },
      "outputs": [
        {
          "output_type": "stream",
          "name": "stdout",
          "text": [
            "Enter any number: 5\n",
            "Too low\n",
            "Enter number again: 8\n",
            "Too high!\n",
            "Enter number again: 7\n",
            "you guessed it right!!\n"
          ]
        }
      ],
      "source": [
        "#Guess the number \n",
        "import random\n",
        "n = random.randrange(1,10)\n",
        "guess = int(input(\"Enter any number: \"))\n",
        "while n!= guess:\n",
        "    if guess < n:\n",
        "        print(\"Too low\")\n",
        "        guess = int(input(\"Enter number again: \"))\n",
        "    elif guess > n:\n",
        "        print(\"Too high!\")\n",
        "        guess = int(input(\"Enter number again: \"))\n",
        "    else:\n",
        "      break\n",
        "print(\"you guessed it right!!\")"
      ]
    },
    {
      "cell_type": "code",
      "source": [
        "#Pascal's triangle\n",
        "def pascalsTriangle(n):\n",
        "    if n == 0:\n",
        "        return []\n",
        "    elif n == 1:\n",
        "        return [1]\n",
        "    else:\n",
        "        new_row = [1]\n",
        "        last_row = pascalsTriangle(n-1)\n",
        "        for i in range(len(last_row)-1):\n",
        "            new_row.append(last_row[i] + last_row[i+1])\n",
        "        new_row += [1]\n",
        "    return new_row\n",
        "\n",
        "\n",
        "n = 8\n",
        "for i in range(n):\n",
        "    print(pascalsTriangle(i))"
      ],
      "metadata": {
        "colab": {
          "base_uri": "https://localhost:8080/"
        },
        "id": "w_RYSRuYmSu8",
        "outputId": "ce42672d-5ef7-44ef-f191-f89b7eccde4c"
      },
      "execution_count": 6,
      "outputs": [
        {
          "output_type": "stream",
          "name": "stdout",
          "text": [
            "[]\n",
            "[1]\n",
            "[1, 1]\n",
            "[1, 2, 1]\n",
            "[1, 3, 3, 1]\n",
            "[1, 4, 6, 4, 1]\n",
            "[1, 5, 10, 10, 5, 1]\n",
            "[1, 6, 15, 20, 15, 6, 1]\n"
          ]
        }
      ]
    }
  ]
}